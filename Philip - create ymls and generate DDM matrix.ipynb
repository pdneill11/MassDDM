{
 "cells": [
  {
   "cell_type": "code",
   "execution_count": 1,
   "id": "3cd2cf57",
   "metadata": {},
   "outputs": [],
   "source": [
    "%matplotlib inline\n",
    "import matplotlib\n",
    "import matplotlib.pyplot as plt\n",
    "\n",
    "import numpy as np \n",
    "import xarray as xr \n",
    "import yaml\n",
    "from yaml import CLoader as Loader, CDumper as Dumper\n",
    "from pathlib import Path\n",
    "import os\n",
    "import glob\n",
    "\n",
    "import sys\n",
    "sys.path.append(\"X:\\\\Philip\\\\PyDDM\\\\PyDDM\") #must point to the PyDDM folder\n",
    "import ddm_analysis_and_fitting as ddm\n",
    "\n",
    "import gc"
   ]
  },
  {
   "cell_type": "code",
   "execution_count": 2,
   "id": "25a2e2a3",
   "metadata": {},
   "outputs": [
    {
     "ename": "FileExistsError",
     "evalue": "[WinError 183] Cannot create a file when that file already exists: 'X:\\\\Philip\\\\Nat\\\\0.3hae\\\\0min\\\\image(0)_0.3hae_ROI_0-256-0-256_ddmmatrix.nc'",
     "output_type": "error",
     "traceback": [
      "\u001b[1;31m---------------------------------------------------------------------------\u001b[0m",
      "\u001b[1;31mFileExistsError\u001b[0m                           Traceback (most recent call last)",
      "\u001b[1;32m<ipython-input-2-ba530b350c1e>\u001b[0m in \u001b[0;36m<module>\u001b[1;34m\u001b[0m\n\u001b[0;32m     22\u001b[0m                         \u001b[0mfilename_of_yaml\u001b[0m \u001b[1;33m=\u001b[0m \u001b[0mimage\u001b[0m\u001b[1;33m+\u001b[0m\u001b[1;34m'_0.3hae_ROI_%i-%i-%i-%i.yml'\u001b[0m \u001b[1;33m%\u001b[0m \u001b[1;33m(\u001b[0m\u001b[0mx1\u001b[0m\u001b[1;33m,\u001b[0m \u001b[0mx1\u001b[0m\u001b[1;33m+\u001b[0m\u001b[1;36m256\u001b[0m\u001b[1;33m,\u001b[0m \u001b[0my1\u001b[0m\u001b[1;33m,\u001b[0m \u001b[0my1\u001b[0m\u001b[1;33m+\u001b[0m\u001b[1;36m256\u001b[0m\u001b[1;33m)\u001b[0m\u001b[1;33m\u001b[0m\u001b[1;33m\u001b[0m\u001b[0m\n\u001b[0;32m     23\u001b[0m                         \u001b[0mfinal_dest\u001b[0m \u001b[1;33m=\u001b[0m \u001b[0mnew_dir\u001b[0m\u001b[1;33m+\u001b[0m\u001b[1;34m'\\\\'\u001b[0m\u001b[1;33m+\u001b[0m\u001b[0mimage\u001b[0m\u001b[1;33m+\u001b[0m\u001b[1;34m'\\\\'\u001b[0m\u001b[1;33m+\u001b[0m\u001b[0mfilename_of_yaml\u001b[0m\u001b[1;33m\u001b[0m\u001b[1;33m\u001b[0m\u001b[0m\n\u001b[1;32m---> 24\u001b[1;33m                         \u001b[0mos\u001b[0m\u001b[1;33m.\u001b[0m\u001b[0mmakedirs\u001b[0m\u001b[1;33m(\u001b[0m\u001b[0mos\u001b[0m\u001b[1;33m.\u001b[0m\u001b[0mpath\u001b[0m\u001b[1;33m.\u001b[0m\u001b[0mdirname\u001b[0m\u001b[1;33m(\u001b[0m\u001b[0mfinal_dest\u001b[0m\u001b[1;33m)\u001b[0m\u001b[1;33m,\u001b[0m \u001b[0mexist_ok\u001b[0m\u001b[1;33m=\u001b[0m\u001b[1;32mTrue\u001b[0m\u001b[1;33m)\u001b[0m\u001b[1;33m\u001b[0m\u001b[1;33m\u001b[0m\u001b[0m\n\u001b[0m\u001b[0;32m     25\u001b[0m                         \u001b[1;32mwith\u001b[0m \u001b[0mopen\u001b[0m\u001b[1;33m(\u001b[0m\u001b[0mfinal_dest\u001b[0m\u001b[1;33m,\u001b[0m \u001b[1;34m'w'\u001b[0m\u001b[1;33m)\u001b[0m \u001b[1;32mas\u001b[0m \u001b[0mfile\u001b[0m\u001b[1;33m:\u001b[0m\u001b[1;33m\u001b[0m\u001b[1;33m\u001b[0m\u001b[0m\n\u001b[0;32m     26\u001b[0m                             \u001b[0mdocuments\u001b[0m \u001b[1;33m=\u001b[0m \u001b[0myaml\u001b[0m\u001b[1;33m.\u001b[0m\u001b[0mdump\u001b[0m\u001b[1;33m(\u001b[0m\u001b[0mdictionary\u001b[0m\u001b[1;33m,\u001b[0m \u001b[0mfile\u001b[0m\u001b[1;33m,\u001b[0m \u001b[0mdefault_flow_style\u001b[0m\u001b[1;33m=\u001b[0m\u001b[1;32mFalse\u001b[0m\u001b[1;33m,\u001b[0m \u001b[0msort_keys\u001b[0m\u001b[1;33m=\u001b[0m\u001b[1;32mFalse\u001b[0m\u001b[1;33m)\u001b[0m\u001b[1;33m\u001b[0m\u001b[1;33m\u001b[0m\u001b[0m\n",
      "\u001b[1;32mC:\\ProgramData\\Anaconda3\\lib\\os.py\u001b[0m in \u001b[0;36mmakedirs\u001b[1;34m(name, mode, exist_ok)\u001b[0m\n\u001b[0;32m    221\u001b[0m             \u001b[1;32mreturn\u001b[0m\u001b[1;33m\u001b[0m\u001b[1;33m\u001b[0m\u001b[0m\n\u001b[0;32m    222\u001b[0m     \u001b[1;32mtry\u001b[0m\u001b[1;33m:\u001b[0m\u001b[1;33m\u001b[0m\u001b[1;33m\u001b[0m\u001b[0m\n\u001b[1;32m--> 223\u001b[1;33m         \u001b[0mmkdir\u001b[0m\u001b[1;33m(\u001b[0m\u001b[0mname\u001b[0m\u001b[1;33m,\u001b[0m \u001b[0mmode\u001b[0m\u001b[1;33m)\u001b[0m\u001b[1;33m\u001b[0m\u001b[1;33m\u001b[0m\u001b[0m\n\u001b[0m\u001b[0;32m    224\u001b[0m     \u001b[1;32mexcept\u001b[0m \u001b[0mOSError\u001b[0m\u001b[1;33m:\u001b[0m\u001b[1;33m\u001b[0m\u001b[1;33m\u001b[0m\u001b[0m\n\u001b[0;32m    225\u001b[0m         \u001b[1;31m# Cannot rely on checking for EEXIST, since the operating system\u001b[0m\u001b[1;33m\u001b[0m\u001b[1;33m\u001b[0m\u001b[1;33m\u001b[0m\u001b[0m\n",
      "\u001b[1;31mFileExistsError\u001b[0m: [WinError 183] Cannot create a file when that file already exists: 'X:\\\\Philip\\\\Nat\\\\0.3hae\\\\0min\\\\image(0)_0.3hae_ROI_0-256-0-256_ddmmatrix.nc'"
     ]
    }
   ],
   "source": [
    "xdim = 1440\n",
    "ydim = 1440\n",
    "\n",
    "directory = 'X:\\\\Philip\\\\Nat\\\\0.3hae\\\\'\n",
    "for folders in os.listdir(directory):\n",
    "    if folders.endswith('min'):\n",
    "        new_dir = os.path.join(directory,folders)\n",
    "        for images in os.listdir(new_dir):\n",
    "            if images.startswith('image'):\n",
    "                image = str(images).replace('.tif','')\n",
    "\n",
    "                stream = open(directory+'yml_template', 'r')\n",
    "                dictionary = yaml.load(stream, Loader=Loader)\n",
    "                for x1 in range(0, xdim-256, 256): \n",
    "                    for y1 in range(0, ydim-256, 256):\n",
    "                        crop_to_roi_updated = [x1, x1+256, y1, y1+256]\n",
    "                        dictionary['Analysis_parameters']['crop_to_roi'] = crop_to_roi_updated\n",
    "                        dictionary['DataDirectory'] = new_dir+'\\\\'\n",
    "                        dictionary['FileName'] = image+'.tif'\n",
    "                        dictionary['Fitting_parameters']['Tau'] = [1.0, 0.001, 1000]\n",
    "\n",
    "                        filename_of_yaml = image+'_0.3hae_ROI_%i-%i-%i-%i.yml' % (x1, x1+256, y1, y1+256)\n",
    "                        final_dest = new_dir+'\\\\'+image+'\\\\'+filename_of_yaml\n",
    "                        os.makedirs(os.path.dirname(final_dest), exist_ok=True)\n",
    "                        with open(final_dest, 'w') as file:\n",
    "                            documents = yaml.dump(dictionary, file, default_flow_style=False, sort_keys=False)"
   ]
  },
  {
   "cell_type": "code",
   "execution_count": null,
   "id": "91e05030",
   "metadata": {
    "scrolled": false
   },
   "outputs": [
    {
     "name": "stdout",
     "output_type": "stream",
     "text": [
      "X:\\Philip\\Nat\\0.3hae\\80min\\image(10)\\image(10)_0.3hae_ROI_0-256-0-256.yml\n",
      "image(10)_0.3hae_ROI_0-256-0-256.yml\n",
      "Provided metadata: {'frame_rate': 20, 'pixel_size': 0.0605}\n",
      "Image shape: 617-by-1440-by-1920\n",
      "Number of frames to use for analysis: 617\n",
      "Maximum lag time (in frames): 300\n",
      "Number of lag times to compute DDM matrix: 40\n",
      "New dimensions after cropping: 256-by-256\n",
      "Applying binning...\n",
      "Dimensions after binning (617, 128, 128), the new pixel size 0.121\n",
      "The file X:\\Philip\\Nat\\0.3hae\\80min\\image(10)_0.3hae_ROI_0-256-0-256_ddmmatrix.nc already exists. So perhaps the DDM matrix was calculated already?\n"
     ]
    }
   ],
   "source": [
    "location = 'X:\\\\Philip\\\\Nat\\\\0.3hae'\n",
    "for times in os.listdir(location):\n",
    "    if times == ('80min'):\n",
    "        new_dir = os.path.join(location,times)\n",
    "        for images in os.listdir(new_dir):   \n",
    "            if not images.endswith('.tif'):\n",
    "                place = os.path.join(new_dir, images)\n",
    "\n",
    "                for things in os.listdir(place):\n",
    "\n",
    "                    loc = place+'\\\\'+things\n",
    "                    print(loc)\n",
    "                    print(things)\n",
    "\n",
    "                    ddm_calc = ddm.DDM_Analysis(loc)\n",
    "                    ddm_calc.filename_for_saving_data = things.replace('.yml','')\n",
    "                    ddm_calc.calculate_DDM_matrix()\n",
    "                    gc.collect()"
   ]
  },
  {
   "cell_type": "code",
   "execution_count": null,
   "id": "17235693",
   "metadata": {},
   "outputs": [],
   "source": [
    "location = 'X:\\\\Philip\\\\Nat\\\\0.3hae'\n",
    "for times in os.listdir(location):\n",
    "    if times == ('90min'):\n",
    "        new_dir = os.path.join(location,times)\n",
    "        for images in os.listdir(new_dir):   \n",
    "            if not images.endswith('.tif'):\n",
    "                place = os.path.join(new_dir, images)\n",
    "\n",
    "                for things in os.listdir(place):\n",
    "\n",
    "                    loc = place+'\\\\'+things\n",
    "                    print(loc)\n",
    "                    print(things)\n",
    "\n",
    "                    ddm_calc = ddm.DDM_Analysis(loc)\n",
    "                    ddm_calc.filename_for_saving_data = things.replace('.yml','')\n",
    "                    ddm_calc.calculate_DDM_matrix()\n",
    "                    gc.collect()"
   ]
  },
  {
   "cell_type": "code",
   "execution_count": null,
   "id": "05eb6d1a",
   "metadata": {},
   "outputs": [],
   "source": []
  }
 ],
 "metadata": {
  "kernelspec": {
   "display_name": "Python 3",
   "language": "python",
   "name": "python3"
  },
  "language_info": {
   "codemirror_mode": {
    "name": "ipython",
    "version": 3
   },
   "file_extension": ".py",
   "mimetype": "text/x-python",
   "name": "python",
   "nbconvert_exporter": "python",
   "pygments_lexer": "ipython3",
   "version": "3.8.8"
  }
 },
 "nbformat": 4,
 "nbformat_minor": 5
}
