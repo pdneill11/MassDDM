{
 "cells": [
  {
   "cell_type": "markdown",
   "id": "5d22c01d",
   "metadata": {},
   "source": [
    "## Import modules"
   ]
  },
  {
   "cell_type": "code",
   "execution_count": 2,
   "id": "3cd2cf57",
   "metadata": {},
   "outputs": [],
   "source": [
    "%matplotlib inline\n",
    "import matplotlib\n",
    "import matplotlib.pyplot as plt\n",
    "\n",
    "import numpy as np \n",
    "import xarray as xr \n",
    "import yaml\n",
    "from yaml import CLoader as Loader, CDumper as Dumper\n",
    "from pathlib import Path\n",
    "import os\n",
    "import glob\n",
    "import pandas as pd\n",
    "\n",
    "import sys\n",
    "sys.path.append(\"Y:\\\\Philip\\\\PyDDM\\\\PyDDM\") #must point to the PyDDM folder\n",
    "import ddm_analysis_and_fitting as ddm\n",
    "\n",
    "import gc\n",
    "import statistics\n",
    "\n",
    "import scipy\n",
    "from scipy.optimize import curve_fit"
   ]
  },
  {
   "cell_type": "markdown",
   "id": "99b59380",
   "metadata": {},
   "source": [
    "## Gather info from every roi"
   ]
  },
  {
   "cell_type": "code",
   "execution_count": 3,
   "id": "708e3d34",
   "metadata": {},
   "outputs": [
    {
     "name": "stdout",
     "output_type": "stream",
     "text": [
      "Analyzing directory: Y:\\Philip\\Nat\\0.5hae\\0min\n"
     ]
    },
    {
     "name": "stderr",
     "output_type": "stream",
     "text": [
      "C:\\Users\\pneill\\Anaconda3\\lib\\site-packages\\xarray\\backends\\plugins.py:65: RuntimeWarning: Engine 'cfgrib' loading failed:\n",
      "Cannot find the ecCodes library\n",
      "  warnings.warn(f\"Engine {name!r} loading failed:\\n{ex}\", RuntimeWarning)\n"
     ]
    },
    {
     "name": "stdout",
     "output_type": "stream",
     "text": [
      "Analyzing directory: Y:\\Philip\\Nat\\0.5hae\\100min\n",
      "Analyzing directory: Y:\\Philip\\Nat\\0.5hae\\10min\n",
      "Analyzing directory: Y:\\Philip\\Nat\\0.5hae\\110min\n",
      "Analyzing directory: Y:\\Philip\\Nat\\0.5hae\\120min\n",
      "Analyzing directory: Y:\\Philip\\Nat\\0.5hae\\130min\n",
      "Analyzing directory: Y:\\Philip\\Nat\\0.5hae\\140min\n",
      "Analyzing directory: Y:\\Philip\\Nat\\0.5hae\\150min\n",
      "Analyzing directory: Y:\\Philip\\Nat\\0.5hae\\160min\n",
      "Analyzing directory: Y:\\Philip\\Nat\\0.5hae\\170min\n",
      "Analyzing directory: Y:\\Philip\\Nat\\0.5hae\\180min\n",
      "Analyzing directory: Y:\\Philip\\Nat\\0.5hae\\190min\n",
      "Analyzing directory: Y:\\Philip\\Nat\\0.5hae\\200min\n",
      "Analyzing directory: Y:\\Philip\\Nat\\0.5hae\\20min\n",
      "Analyzing directory: Y:\\Philip\\Nat\\0.5hae\\210min\n",
      "Analyzing directory: Y:\\Philip\\Nat\\0.5hae\\220min\n",
      "Analyzing directory: Y:\\Philip\\Nat\\0.5hae\\230min\n",
      "Analyzing directory: Y:\\Philip\\Nat\\0.5hae\\240min\n",
      "Analyzing directory: Y:\\Philip\\Nat\\0.5hae\\30min\n",
      "Analyzing directory: Y:\\Philip\\Nat\\0.5hae\\40min\n",
      "Analyzing directory: Y:\\Philip\\Nat\\0.5hae\\50min\n",
      "Analyzing directory: Y:\\Philip\\Nat\\0.5hae\\60min\n",
      "Analyzing directory: Y:\\Philip\\Nat\\0.5hae\\70min\n",
      "Analyzing directory: Y:\\Philip\\Nat\\0.5hae\\80min\n",
      "Analyzing directory: Y:\\Philip\\Nat\\0.5hae\\90min\n",
      "Analyzing directory: Y:\\Philip\\Nat\\0.5hae(2)\\0min\n",
      "Analyzing directory: Y:\\Philip\\Nat\\0.5hae(2)\\100min\n",
      "Analyzing directory: Y:\\Philip\\Nat\\0.5hae(2)\\10min\n",
      "Analyzing directory: Y:\\Philip\\Nat\\0.5hae(2)\\110min\n",
      "Analyzing directory: Y:\\Philip\\Nat\\0.5hae(2)\\120min\n",
      "Analyzing directory: Y:\\Philip\\Nat\\0.5hae(2)\\130min\n",
      "Analyzing directory: Y:\\Philip\\Nat\\0.5hae(2)\\140min\n",
      "Analyzing directory: Y:\\Philip\\Nat\\0.5hae(2)\\150min\n",
      "Analyzing directory: Y:\\Philip\\Nat\\0.5hae(2)\\160min\n",
      "Analyzing directory: Y:\\Philip\\Nat\\0.5hae(2)\\170min\n",
      "Analyzing directory: Y:\\Philip\\Nat\\0.5hae(2)\\180min\n",
      "Analyzing directory: Y:\\Philip\\Nat\\0.5hae(2)\\190min\n",
      "Analyzing directory: Y:\\Philip\\Nat\\0.5hae(2)\\200min\n",
      "Analyzing directory: Y:\\Philip\\Nat\\0.5hae(2)\\20min\n",
      "Analyzing directory: Y:\\Philip\\Nat\\0.5hae(2)\\210min\n",
      "Analyzing directory: Y:\\Philip\\Nat\\0.5hae(2)\\220min\n",
      "Analyzing directory: Y:\\Philip\\Nat\\0.5hae(2)\\230min\n",
      "Analyzing directory: Y:\\Philip\\Nat\\0.5hae(2)\\240min\n",
      "Analyzing directory: Y:\\Philip\\Nat\\0.5hae(2)\\30min\n",
      "Analyzing directory: Y:\\Philip\\Nat\\0.5hae(2)\\40min\n",
      "Analyzing directory: Y:\\Philip\\Nat\\0.5hae(2)\\50min\n",
      "Analyzing directory: Y:\\Philip\\Nat\\0.5hae(2)\\60min\n",
      "Analyzing directory: Y:\\Philip\\Nat\\0.5hae(2)\\70min\n",
      "Analyzing directory: Y:\\Philip\\Nat\\0.5hae(2)\\80min\n",
      "Analyzing directory: Y:\\Philip\\Nat\\0.5hae(2)\\90min\n"
     ]
    }
   ],
   "source": [
    "master_dict = {}\n",
    "    \n",
    "for i in range(0,241,10):\n",
    "    the_time = str(i)+'min'\n",
    "    master_dict[the_time] = {}\n",
    "\n",
    "locations = ['Y:\\\\Philip\\\\Nat\\\\0.5hae','Y:\\\\Philip\\\\Nat\\\\0.5hae(2)']\n",
    "for location in locations:\n",
    "    time_locations = glob.glob(location+\"\\\\*min\")\n",
    "    for times_dir in time_locations:\n",
    "        print(\"Analyzing directory: %s\" % times_dir)\n",
    "        the_time = times_dir.split(\"\\\\\")[-1]\n",
    "\n",
    "        ISF_files = glob.glob('%s\\\\*)\\\\*.nc' % times_dir)\n",
    "        for i,files in enumerate(ISF_files):\n",
    "            master_dict[the_time][files] = {}\n",
    "\n",
    "            stuff = xr.load_dataset(files)\n",
    "\n",
    "            master_dict[the_time][files]['tau'] = stuff.parameters.loc['Tau']\n",
    "            master_dict[the_time][files]['q'] = stuff.q\n",
    "            master_dict[the_time][files]['amp'] = stuff.A\n",
    "            master_dict[the_time][files]['stretch'] = stuff.parameters.loc['StretchingExp']\n",
    "            master_dict[the_time][files]['diffcoeff'] = stuff.effective_diffusion_coeff\n",
    "            master_dict[the_time][files]['diffcoeff_std'] = stuff.diffusion_coeff_std\n",
    "            master_dict[the_time][files]['alpha'] = stuff.msd_alpha\n",
    "            master_dict[the_time][files]['slope'] = stuff.tau_vs_q_slope\n",
    "        \n",
    "np.save(locations[0]+'_master_dict.npy', master_dict, allow_pickle=True)"
   ]
  },
  {
   "cell_type": "code",
   "execution_count": 4,
   "id": "ae601dda",
   "metadata": {},
   "outputs": [],
   "source": [
    "#master_dict = np.load(locations[0]+'_master_dict.npy', allow_pickle=True)"
   ]
  },
  {
   "cell_type": "markdown",
   "id": "96686aec",
   "metadata": {},
   "source": [
    "## Set parameters and trim data"
   ]
  },
  {
   "cell_type": "code",
   "execution_count": 5,
   "id": "bd5cb18d",
   "metadata": {},
   "outputs": [],
   "source": [
    "q_min = 3\n",
    "q_max = 11\n",
    "q_range = slice(q_min,q_max)\n",
    "\n",
    "slope_min = -2.2\n",
    "slope_max = -1.8\n",
    "\n",
    "y_floor1 = 0\n",
    "y_ceil1 = 4\n",
    "\n",
    "y_floor2 = 0.15\n",
    "y_ceil2 = 0.25"
   ]
  },
  {
   "cell_type": "code",
   "execution_count": 6,
   "id": "8a8ecb05",
   "metadata": {},
   "outputs": [],
   "source": [
    "trimmed_dict = {}\n",
    "\n",
    "for i in range(0,241,10):\n",
    "    the_time = str(i)+'min'\n",
    "    trimmed_dict[the_time] = {}\n",
    "    for files in master_dict[the_time]:\n",
    "        if y_floor1 <= master_dict[the_time][files]['tau'][q_min] <= y_ceil1 and \\\n",
    "        y_floor2 <= master_dict[the_time][files]['tau'][q_max] <= y_ceil2:\n",
    "            \n",
    "            trimmed_dict[the_time][files] = {}\n",
    "            \n",
    "            trimmed_dict[the_time][files]['tau'] = master_dict[the_time][files]['tau']\n",
    "            trimmed_dict[the_time][files]['q'] = master_dict[the_time][files]['q']\n",
    "            trimmed_dict[the_time][files]['amp'] = master_dict[the_time][files]['amp']\n",
    "            trimmed_dict[the_time][files]['stretch'] = master_dict[the_time][files]['stretch']\n",
    "            trimmed_dict[the_time][files]['diffcoeff'] = master_dict[the_time][files]['diffcoeff']\n",
    "            trimmed_dict[the_time][files]['diffcoeff_std'] = master_dict[the_time][files]['diffcoeff_std']\n",
    "            trimmed_dict[the_time][files]['alpha'] = master_dict[the_time][files]['alpha']\n",
    "            trimmed_dict[the_time][files]['slope'] = master_dict[the_time][files]['slope']"
   ]
  },
  {
   "cell_type": "markdown",
   "id": "445dba6f",
   "metadata": {},
   "source": [
    "## Average values"
   ]
  },
  {
   "cell_type": "code",
   "execution_count": 7,
   "id": "4eab5afb",
   "metadata": {},
   "outputs": [],
   "source": [
    "variables = ['tau','q','amp','stretch']\n",
    "for variable in variables:\n",
    "\n",
    "    time_list = []\n",
    "    for i in range(0,241,10):\n",
    "        the_time = str(i)+'min'\n",
    "        avg_list = []\n",
    "        for qs in range(64):\n",
    "            value_list = []\n",
    "            for files in trimmed_dict[the_time]:\n",
    "                value = trimmed_dict[the_time][files][variable][qs].values.tolist()\n",
    "                value_list.append(value)\n",
    "            try:\n",
    "                avg = sum(value_list)/len(value_list)\n",
    "            except:\n",
    "                avg = 0\n",
    "            avg_list.append(avg)\n",
    "        time_list.append(avg_list)\n",
    "    df = pd.DataFrame(time_list)\n",
    "    df.to_excel(locations[0]+'\\\\_'+variable+'.xlsx', index=False)"
   ]
  },
  {
   "cell_type": "code",
   "execution_count": 8,
   "id": "c6f991d5",
   "metadata": {},
   "outputs": [],
   "source": [
    "variables = ['diffcoeff','diffcoeff_std','alpha','slope']\n",
    "for variable in variables:\n",
    "\n",
    "    time_list = []\n",
    "    for i in range(0,241,10):\n",
    "        the_time = str(i)+'min'\n",
    "        value_list = []\n",
    "        for files in trimmed_dict[the_time]:\n",
    "            value = trimmed_dict[the_time][files][variable]\n",
    "            value_list.append(value)\n",
    "        try:\n",
    "            time_val = sum(value_list)/len(value_list)\n",
    "        except:\n",
    "            time_val = 0\n",
    "        time_list.append(time_val)\n",
    "    df = pd.DataFrame(time_list)\n",
    "    df.to_excel(locations[0]+'\\\\_'+variable+'.xlsx', index=False)"
   ]
  },
  {
   "cell_type": "code",
   "execution_count": 29,
   "id": "d00886d1",
   "metadata": {
    "scrolled": false
   },
   "outputs": [
    {
     "name": "stdout",
     "output_type": "stream",
     "text": [
      "Unfiltered: 150 --> Filtered: 114\n"
     ]
    },
    {
     "data": {
      "image/png": "[encoded data removed]",
      "text/plain": [
       "<Figure size 640x480 with 1 Axes>"
      ]
     },
     "metadata": {},
     "output_type": "display_data"
    },
    {
     "data": {
      "image/png": "[encoded data removed]",
      "text/plain": [
       "<Figure size 640x480 with 1 Axes>"
      ]
     },
     "metadata": {},
     "output_type": "display_data"
    }
   ],
   "source": [
    "#%matplotlib notebook\n",
    "\n",
    "the_time = '70min'\n",
    "\n",
    "xbound = [0.8,8]\n",
    "ybound = [0.01,100]\n",
    "\n",
    "plt.figure()\n",
    "for n,files in enumerate(master_dict[the_time]):\n",
    "    plt.xlabel('q (um-1)')\n",
    "    plt.ylabel('tau (s)')\n",
    "    plt.title('Unfiltered')\n",
    "    plt.xlim(xbound)\n",
    "    plt.ylim(ybound)\n",
    "    plt.loglog(master_dict[the_time][files]['q'], master_dict[the_time][files]['tau'], 'bo', alpha = 0.01)\n",
    "    plt.loglog(master_dict[the_time][files]['q'][q_min], master_dict[the_time][files]['tau'][q_min], 'go', alpha = 0.05)\n",
    "    plt.loglog(master_dict[the_time][files]['q'][q_max], master_dict[the_time][files]['tau'][q_max], 'go', alpha = 0.05)\n",
    "\n",
    "\n",
    "plt.figure()\n",
    "for i, files in enumerate(trimmed_dict[the_time]):\n",
    "    plt.xlabel('q (um-1)')\n",
    "    plt.ylabel('tau (s)')\n",
    "    plt.title('Filtered')\n",
    "    plt.xlim(xbound)\n",
    "    plt.ylim(ybound)\n",
    "    plt.loglog(trimmed_dict[the_time][files]['q'], trimmed_dict[the_time][files]['tau'], 'ro', alpha = 0.01)\n",
    "    plt.loglog(trimmed_dict[the_time][files]['q'][q_min], master_dict[the_time][files]['tau'][q_min], 'go', alpha = 0.05)\n",
    "    plt.loglog(trimmed_dict[the_time][files]['q'][q_max], master_dict[the_time][files]['tau'][q_max], 'go', alpha = 0.05)\n",
    "    #plt.loglog(trimmed_dict[the_time][files]['q'], time_list[16], 'bo', alpha = 0.01)\n",
    "    \n",
    "print('Unfiltered: '+ str(n+1),'--> Filtered: ' + str(i+1))\n",
    "plt.show()"
   ]
  },
  {
   "cell_type": "code",
   "execution_count": 49,
   "id": "f3903fbd",
   "metadata": {},
   "outputs": [],
   "source": [
    "D_list = []\n",
    "D_std_list = []\n",
    "amplitude_list = []\n",
    "#D = []\n",
    "\n",
    "for j in range(0,241,10):\n",
    "    the_time = str(j)+'min'\n",
    "    for i, files in enumerate(trimmed_dict[the_time]):\n",
    "        D = 1/(trimmed_dict[the_time][files]['tau'][q_range]*trimmed_dict[the_time][files]['q'][q_range]**2)\n",
    "        \n",
    "    #Deez = np.array(D)\n",
    "    means = D.mean()\n",
    "    stds = D.std()\n",
    "    \n",
    "    D_list.append(means)\n",
    "    D_std_list.append(stds)\n",
    "\n",
    "Diff_calc = pd.DataFrame(np.array(D_list))    \n",
    "Diff_std_calc = pd.DataFrame(np.array(D_std_list))"
   ]
  },
  {
   "cell_type": "code",
   "execution_count": 35,
   "id": "c11eaa87",
   "metadata": {
    "scrolled": true
   },
   "outputs": [
    {
     "name": "stdout",
     "output_type": "stream",
     "text": [
      "       0\n",
      "0.416522\n",
      "0.405221\n",
      "0.343719\n",
      "0.400218\n",
      "0.358578\n",
      "0.363962\n",
      "0.355678\n",
      "0.315571\n",
      "0.361559\n",
      "0.284536\n",
      "0.318445\n",
      "0.284389\n",
      "0.262888\n",
      "0.248007\n",
      "0.376176\n",
      "0.223041\n",
      "0.410512\n",
      "0.261082\n",
      "0.267288\n",
      "0.249754\n",
      "0.229232\n",
      "0.282869\n",
      "0.303434\n",
      "0.285425\n",
      "0.281710\n"
     ]
    }
   ],
   "source": [
    "print(Diff_calc.to_string(index=False))"
   ]
  },
  {
   "cell_type": "code",
   "execution_count": 36,
   "id": "acc70618",
   "metadata": {},
   "outputs": [
    {
     "name": "stdout",
     "output_type": "stream",
     "text": [
      "       0\n",
      "0.035061\n",
      "0.064067\n",
      "0.062208\n",
      "0.065266\n",
      "0.047229\n",
      "0.040015\n",
      "0.047585\n",
      "0.036968\n",
      "0.045765\n",
      "0.030227\n",
      "0.052786\n",
      "0.040630\n",
      "0.033600\n",
      "0.031365\n",
      "0.099238\n",
      "0.026075\n",
      "0.067951\n",
      "0.040341\n",
      "0.055916\n",
      "0.037533\n",
      "0.037477\n",
      "0.052492\n",
      "0.052957\n",
      "0.062691\n",
      "0.048134\n"
     ]
    }
   ],
   "source": [
    "print(Diff_std_calc.to_string(index=False))"
   ]
  },
  {
   "cell_type": "code",
   "execution_count": null,
   "id": "80865108",
   "metadata": {},
   "outputs": [],
   "source": []
  }
 ],
 "metadata": {
  "kernelspec": {
   "display_name": "Python 3 (ipykernel)",
   "language": "python",
   "name": "python3"
  },
  "language_info": {
   "codemirror_mode": {
    "name": "ipython",
    "version": 3
   },
   "file_extension": ".py",
   "mimetype": "text/x-python",
   "name": "python",
   "nbconvert_exporter": "python",
   "pygments_lexer": "ipython3",
   "version": "3.9.13"
  }
 },
 "nbformat": 4,
 "nbformat_minor": 5
}
